{
 "cells": [
  {
   "cell_type": "markdown",
   "metadata": {},
   "source": [
    "Задание 1.  Из колоды в 52 карты извлекаются случайным образом 4 карты. \n",
    "\n",
    "a) Найти вероятность того, что все карты – крести. \n",
    "\n",
    "б) Найти вероятность, что среди 4-х карт окажется хотя бы один туз."
   ]
  },
  {
   "cell_type": "markdown",
   "metadata": {},
   "source": [
    "Общие расчеты.  функция вычисления количества сочетаний и расчет количества возможных сочетаний 4 карт из 52."
   ]
  },
  {
   "cell_type": "code",
   "execution_count": 1,
   "metadata": {},
   "outputs": [
    {
     "data": {
      "text/plain": [
       "270725"
      ]
     },
     "execution_count": 1,
     "metadata": {},
     "output_type": "execute_result"
    }
   ],
   "source": [
    "# пишем функцию расчета количества сочетаний\n",
    "from math import factorial\n",
    "\n",
    "def combinations(n,k):\n",
    "    return int(factorial(n) / (factorial(k) * factorial(n-k)))\n",
    "\n",
    "# сколько всего сочетаний 4 карт из 52\n",
    "c_total = combinations(52, 4)\n",
    "c_total"
   ]
  },
  {
   "cell_type": "markdown",
   "metadata": {},
   "source": [
    "a) Найти вероятность того, что все карты – крести."
   ]
  },
  {
   "cell_type": "code",
   "execution_count": 2,
   "metadata": {},
   "outputs": [
    {
     "data": {
      "text/plain": [
       "715"
      ]
     },
     "execution_count": 2,
     "metadata": {},
     "output_type": "execute_result"
    }
   ],
   "source": [
    "# вычисление количества благоприятных исходов = сочетаний 4 крести из 13 возможных\n",
    "a = combinations(13, 4)\n",
    "a"
   ]
  },
  {
   "cell_type": "code",
   "execution_count": 3,
   "metadata": {},
   "outputs": [
    {
     "name": "stdout",
     "output_type": "stream",
     "text": [
      "Ответ:  0.0026410564225690276\n"
     ]
    }
   ],
   "source": [
    "# какова вероятность того, что все карты – крести?  делим количество благоприятных исходов на общее количество исходов\n",
    "p = a / c_total\n",
    "print(\"Ответ: \", p)"
   ]
  },
  {
   "cell_type": "markdown",
   "metadata": {},
   "source": [
    "б) Найти вероятность, что среди 4-х карт окажется хотя бы один туз."
   ]
  },
  {
   "cell_type": "markdown",
   "metadata": {},
   "source": [
    "задача разбивается на составляющие следующим образом:\n",
    "    \n",
    "    1. расчет вероятностей выпадения четырех сочетаний: 1 туз + 3 карты, 2 туза + 2 карты, 3 туза + 1 карта и 4 туза\n",
    "    2. расчет общей вероятности события.  т.к. все 4 сочетания удовлетворяют условию \"хотя бы один туз\", то применяем сложение (логика \"или\")"
   ]
  },
  {
   "cell_type": "markdown",
   "metadata": {},
   "source": [
    "1 туз 3 карты.  "
   ]
  },
  {
   "cell_type": "code",
   "execution_count": 4,
   "metadata": {},
   "outputs": [],
   "source": [
    "# вводим переменные\n",
    "ace = 1 # количество тузов\n",
    "rest = 3 # количество других карт"
   ]
  },
  {
   "cell_type": "code",
   "execution_count": 5,
   "metadata": {},
   "outputs": [
    {
     "data": {
      "text/plain": [
       "4"
      ]
     },
     "execution_count": 5,
     "metadata": {},
     "output_type": "execute_result"
    }
   ],
   "source": [
    "# количество сочетаний тузов.\n",
    "c_ace = combinations(4, ace)\n",
    "c_ace"
   ]
  },
  {
   "cell_type": "code",
   "execution_count": 6,
   "metadata": {},
   "outputs": [
    {
     "data": {
      "text/plain": [
       "17296"
      ]
     },
     "execution_count": 6,
     "metadata": {},
     "output_type": "execute_result"
    }
   ],
   "source": [
    "# количество сочетаний остальных карт. убираем 4 тузов, остается 48 карт\n",
    "c_rest = combinations(48, rest)\n",
    "c_rest"
   ]
  },
  {
   "cell_type": "code",
   "execution_count": 7,
   "metadata": {},
   "outputs": [
    {
     "data": {
      "text/plain": [
       "69184"
      ]
     },
     "execution_count": 7,
     "metadata": {},
     "output_type": "execute_result"
    }
   ],
   "source": [
    "# вычисляем количество благоприятных исходов = общее количество сочетаний = количество сочетаний тузов * количество сочетаний из оставшихся карт\n",
    "c = c_ace * c_rest\n",
    "c"
   ]
  },
  {
   "cell_type": "code",
   "execution_count": 8,
   "metadata": {},
   "outputs": [
    {
     "name": "stdout",
     "output_type": "stream",
     "text": [
      "вероятность того, что выпадет комбинация где тузов: 1 и других карт: 3 = 0.25555083571890297\n"
     ]
    }
   ],
   "source": [
    "# расчет вероятности выпадения такого сочетания\n",
    "p1 = c / c_total\n",
    "print(f\"вероятность того, что выпадет комбинация где тузов: {ace} и других карт: {rest} = {p1}\")"
   ]
  },
  {
   "cell_type": "markdown",
   "metadata": {},
   "source": [
    "остальные комбинации по аналогии:"
   ]
  },
  {
   "cell_type": "markdown",
   "metadata": {},
   "source": [
    "2 туза 2 карты."
   ]
  },
  {
   "cell_type": "code",
   "execution_count": 9,
   "metadata": {},
   "outputs": [
    {
     "name": "stdout",
     "output_type": "stream",
     "text": [
      "вероятность того, что выпадет комбинация где тузов: 2 и других карт: 2 = 0.0249995382768492\n"
     ]
    }
   ],
   "source": [
    "ace = 2\n",
    "rest = 2\n",
    "\n",
    "c_ace = combinations(4, ace)\n",
    "c_rest = combinations(48, rest)\n",
    "c = c_ace * c_rest\n",
    "\n",
    "p2 = c / c_total\n",
    "print(f\"вероятность того, что выпадет комбинация где тузов: {ace} и других карт: {rest} = {p2}\")"
   ]
  },
  {
   "cell_type": "markdown",
   "metadata": {},
   "source": [
    "3 туза 1 карта."
   ]
  },
  {
   "cell_type": "code",
   "execution_count": 10,
   "metadata": {},
   "outputs": [
    {
     "name": "stdout",
     "output_type": "stream",
     "text": [
      "вероятность того, что выпадет комбинация где тузов: 3 и других карт: 1 = 0.0007092067596269276\n"
     ]
    }
   ],
   "source": [
    "ace = 3\n",
    "rest = 1\n",
    "\n",
    "c_ace = combinations(4, ace)\n",
    "c_rest = combinations(48, rest)\n",
    "c = c_ace * c_rest\n",
    "\n",
    "p3 = c / c_total\n",
    "print(f\"вероятность того, что выпадет комбинация где тузов: {ace} и других карт: {rest} = {p3}\")"
   ]
  },
  {
   "cell_type": "markdown",
   "metadata": {},
   "source": [
    "4 туза"
   ]
  },
  {
   "cell_type": "code",
   "execution_count": 11,
   "metadata": {},
   "outputs": [
    {
     "name": "stdout",
     "output_type": "stream",
     "text": [
      "вероятность того, что выпадет комбинация где тузов: 4 и других карт: 0 = 3.6937852063902484e-06\n"
     ]
    }
   ],
   "source": [
    "ace = 4\n",
    "rest = 0\n",
    "\n",
    "c_ace = combinations(4, ace)\n",
    "c_rest = combinations(48, rest)\n",
    "c = c_ace * c_rest\n",
    "\n",
    "p4 = c / c_total\n",
    "print(f\"вероятность того, что выпадет комбинация где тузов: {ace} и других карт: {rest} = {p4}\")"
   ]
  },
  {
   "cell_type": "markdown",
   "metadata": {},
   "source": [
    "расчет общей вероятности"
   ]
  },
  {
   "cell_type": "code",
   "execution_count": 12,
   "metadata": {},
   "outputs": [
    {
     "name": "stdout",
     "output_type": "stream",
     "text": [
      "Ответ. вероятность того, что из выбранных карт хотя бы одна окажется тузом = 0.2812632745405855\n"
     ]
    }
   ],
   "source": [
    "p_total = p1 + p2 + p3 + p4\n",
    "print(f\"Ответ. вероятность того, что из выбранных карт хотя бы одна окажется тузом = {p_total}\")"
   ]
  },
  {
   "cell_type": "markdown",
   "metadata": {},
   "source": [
    "Задание 2.  На входной двери подъезда установлен кодовый замок, содержащий десять кнопок с цифрами от 0 до 9. Код содержит три цифры, которые нужно нажать одновременно. Какова вероятность того, что человек, не знающий код, откроет дверь с первой попытки?"
   ]
  },
  {
   "cell_type": "code",
   "execution_count": 13,
   "metadata": {},
   "outputs": [
    {
     "name": "stdout",
     "output_type": "stream",
     "text": [
      "Ответ: 0.008333333333333333\n"
     ]
    }
   ],
   "source": [
    "# порядок здесь не важен т.к. цифры жмут одновременно.  важно сочетание цифр.\n",
    "# благоприятный исход здесь один т.к. верный код один\n",
    "# количество возможных исходов расчитываем по формуле для сочетаний\n",
    "print(f'Ответ: {1 / combinations(10, 3)}')\n"
   ]
  },
  {
   "cell_type": "markdown",
   "metadata": {},
   "source": [
    "Задание 3.  В ящике имеется 15 деталей, из которых 9 окрашены. Рабочий случайным образом извлекает 3 детали. Какова вероятность того, что все извлеченные детали окрашены?"
   ]
  },
  {
   "cell_type": "code",
   "execution_count": 14,
   "metadata": {},
   "outputs": [
    {
     "data": {
      "text/plain": [
       "0.6"
      ]
     },
     "execution_count": 14,
     "metadata": {},
     "output_type": "execute_result"
    }
   ],
   "source": [
    "# вероятность того, что рабочий вытащит окрашенную деталь\n",
    "9 / 15"
   ]
  },
  {
   "cell_type": "code",
   "execution_count": 15,
   "metadata": {},
   "outputs": [
    {
     "data": {
      "text/plain": [
       "0.5714285714285714"
      ]
     },
     "execution_count": 15,
     "metadata": {},
     "output_type": "execute_result"
    }
   ],
   "source": [
    "# теперь деталей 14, из которых 8 окрашены. теперь вероятность извлечения окрашенной детали\n",
    "8 / 14"
   ]
  },
  {
   "cell_type": "code",
   "execution_count": 16,
   "metadata": {},
   "outputs": [
    {
     "data": {
      "text/plain": [
       "0.5384615384615384"
      ]
     },
     "execution_count": 16,
     "metadata": {},
     "output_type": "execute_result"
    }
   ],
   "source": [
    "# теперь деталей 13, из которых 7 окрашены. теперь вероятность извлечения окрашенной детали\n",
    "7 / 13"
   ]
  },
  {
   "cell_type": "code",
   "execution_count": 17,
   "metadata": {},
   "outputs": [
    {
     "data": {
      "text/plain": [
       "0.18461538461538457"
      ]
     },
     "execution_count": 17,
     "metadata": {},
     "output_type": "execute_result"
    }
   ],
   "source": [
    "# вероятность того, что рабочий извлечет 3 окрашенных детали подряд:\n",
    "0.6 * 0.5714285714285714 * 0.5384615384615384"
   ]
  },
  {
   "cell_type": "markdown",
   "metadata": {},
   "source": [
    "Задание 4.  В лотерее 100 билетов. Из них 2 выигрышных. Какова вероятность того, что 2 приобретенных билета окажутся выигрышными?"
   ]
  },
  {
   "cell_type": "code",
   "execution_count": 18,
   "metadata": {},
   "outputs": [
    {
     "data": {
      "text/plain": [
       "0.02"
      ]
     },
     "execution_count": 18,
     "metadata": {},
     "output_type": "execute_result"
    }
   ],
   "source": [
    "# вероятность вытянуть выигрышный билет\n",
    "p_1st = 2 / 100\n",
    "p_1st"
   ]
  },
  {
   "cell_type": "code",
   "execution_count": 19,
   "metadata": {},
   "outputs": [
    {
     "data": {
      "text/plain": [
       "0.010101010101010102"
      ]
     },
     "execution_count": 19,
     "metadata": {},
     "output_type": "execute_result"
    }
   ],
   "source": [
    "# после того, как 1-й билет вытянули, вероятность вытянуть 2-й\n",
    "p_2nd = 1 / 99\n",
    "p_2nd"
   ]
  },
  {
   "cell_type": "code",
   "execution_count": 20,
   "metadata": {},
   "outputs": [
    {
     "name": "stdout",
     "output_type": "stream",
     "text": [
      "Ответ:  0.00020202020202020205\n"
     ]
    }
   ],
   "source": [
    "# Таким образом, вероятность того, что 2 приобретенных билета окажутся выигрышными\n",
    "p = p_1st * p_2nd\n",
    "print(\"Ответ: \", p)"
   ]
  }
 ],
 "metadata": {
  "kernelspec": {
   "display_name": "Python 3",
   "language": "python",
   "name": "python3"
  },
  "language_info": {
   "codemirror_mode": {
    "name": "ipython",
    "version": 3
   },
   "file_extension": ".py",
   "mimetype": "text/x-python",
   "name": "python",
   "nbconvert_exporter": "python",
   "pygments_lexer": "ipython3",
   "version": "3.8.3"
  }
 },
 "nbformat": 4,
 "nbformat_minor": 4
}
